{
 "cells": [
  {
   "cell_type": "code",
   "execution_count": 1,
   "metadata": {},
   "outputs": [],
   "source": [
    "import numpy as np\n",
    "import matplotlib.pyplot as plt\n",
    "from matplotlib import rcParams\n",
    "import pandas as pd \n",
    "import pickle\n",
    "import jieba\n",
    "from sklearn.feature_extraction.text import TfidfVectorizer\n",
    "from sklearn.linear_model import SGDClassifier\n",
    "from sklearn.linear_model import Perceptron\n",
    "from sklearn.linear_model import PassiveAggressiveClassifier\n",
    "from sklearn.naive_bayes import MultinomialNB\n",
    "from sklearn.model_selection import cross_val_score\n",
    "from sklearn.preprocessing import scale\n",
    "from sklearn.model_selection import train_test_split\n",
    "# 默认情况下，matplotlib不支持中文显示，我们需要进行一下设置。\n",
    "# 设置字体为黑体，以支持中文显示。\n",
    "rcParams[\"font.family\"] = \"SimHei\"\n",
    "# 设置在中文字体时，能够正常的显示负号（-）。\n",
    "rcParams[\"axes.unicode_minus\"] = False"
   ]
  },
  {
   "cell_type": "code",
   "execution_count": 3,
   "metadata": {},
   "outputs": [],
   "source": [
    "df = pd.read_excel(\"./data/blogs.xlsx\",names=['columnid','content'])\n",
    "# df.info()\n",
    "# df.describe()\n",
    "stop_words = ['\\n','','。','，','|','【','】',':',' ','...','/','.','_','+','=','[',']','-']\n",
    "# 分词处理\n",
    "df.content = df.content.map(\n",
    "    lambda aa : ' '.join([ x for x in \" \".join(jieba.cut(str(aa))).split(' ') if x not in stop_words]))\n",
    "# 写入\n",
    "df.to_excel('./data/blogs_participled.xlsx')\n",
    "tt = ' '.join([ x for x in df.content])\n",
    "cco = set(tt.split(' ')) # 转集合去重\n",
    "# 保存词汇列表\n",
    "with open('./data/blogswordslist.pickle',mode='wb') as f1:\n",
    "     pickle.dump(cco,f1)"
   ]
  },
  {
   "cell_type": "code",
   "execution_count": 4,
   "metadata": {},
   "outputs": [
    {
     "name": "stdout",
     "output_type": "stream",
     "text": [
      "随机梯度下降(SGD) Accuracy: 0.340 (+/- 0.036)\n",
      "感知机(Perceptron) Accuracy: 0.314 (+/- 0.036)\n",
      "朴素贝叶斯分类器(MultinomialNB) Accuracy: 0.347 (+/- 0.040)\n",
      "PA被动感知算法(Passive-Aggressive) Accuracy: 0.338 (+/- 0.035)\n"
     ]
    }
   ],
   "source": [
    "# 加载词汇列表\n",
    "with open('./data/blogswordslist.pickle',mode='rb') as f2:\n",
    "     a_list = pickle.load(f2)\n",
    "vocabulary = list(a_list)\n",
    "# tfidf向量\n",
    "stop_words = list(['\\n','','。','，','|','【','】',':',' ','...','/','.','_','+','=','[',']','-'])\n",
    "\n",
    "vectorizer = TfidfVectorizer(stop_words=stop_words,vocabulary=vocabulary)\n",
    "aav = vectorizer.fit_transform(df.content.fillna(axis=0,method='ffill')) # 有缺失值用上一个填充\n",
    "y_np = np.array(df['columnid'],dtype=float)\n",
    "X_train, X_test, y_train, y_test = train_test_split(aav, y_np, test_size=0.3, random_state=0)\n",
    "max_iter = 25 # 训练数据的最大次数\n",
    "clfs = {\n",
    "    '随机梯度下降(SGD)': SGDClassifier(max_iter=max_iter, tol=1e-3),\n",
    "    '感知机(Perceptron)': Perceptron(max_iter=max_iter,tol=1e-3),\n",
    "    '朴素贝叶斯分类器(MultinomialNB)': MultinomialNB(alpha=0.01),\n",
    "    'PA被动感知算法(Passive-Aggressive)': PassiveAggressiveClassifier(max_iter=max_iter,tol=1e-3),\n",
    "}\n",
    "for cls_name, clf in clfs.items():\n",
    "#     clf = clf.partial_fit(X_train,y_train,classes=[1,2,3,4,5,6,7,8,9,10,11]) # 增量学习\n",
    "    clf = clf.fit(X_train,y_train)\n",
    "    scores = cross_val_score(clf,X_test,y_test,cv=5,scoring='accuracy')\n",
    "    print(\"%s Accuracy: %0.3f (+/- %0.3f)\" % (cls_name,scores.mean(), scores.std() * 2))"
   ]
  },
  {
   "cell_type": "code",
   "execution_count": 5,
   "metadata": {},
   "outputs": [
    {
     "name": "stdout",
     "output_type": "stream",
     "text": [
      "PA被动感知算法(Passive-Aggressive) Accuracy: 0.341 (+/- 0.026)\n"
     ]
    }
   ],
   "source": [
    "cls_name = 'PA被动感知算法(Passive-Aggressive)'\n",
    "clfp = PassiveAggressiveClassifier(max_iter=20,tol=1e-3)\n",
    "clfp = clfp.fit(X_train,y_train)\n",
    "scores = cross_val_score(clf,X_test,y_test,cv=5,scoring='accuracy')\n",
    "print(\"%s Accuracy: %0.3f (+/- %0.3f)\" % (cls_name,scores.mean(), scores.std() * 2))"
   ]
  },
  {
   "cell_type": "code",
   "execution_count": 6,
   "metadata": {},
   "outputs": [],
   "source": [
    "# 保存模型\n",
    "with open('./model/clfpa.model',mode='wb') as f1:\n",
    "     pickle.dump(clfp,f1)\n",
    "# 加载模型\n",
    "with open('./model/clfpa.model',mode='rb') as f2:\n",
    "     clfpa = pickle.load(f2)"
   ]
  },
  {
   "cell_type": "code",
   "execution_count": 7,
   "metadata": {},
   "outputs": [
    {
     "data": {
      "text/plain": [
       "['惯性导航 一般 集成 在 GPS 设备 中 都 是 由 供应商 集成 那 在 这里 有 什么 讨论 的 必要 呢 要 知道 在 车辆 行驶 中 我们 可以 拿到 GPS 的 yawrate 和 speed 信号 而且 车辆 本身 还有 一套 传感器 获取 yawrate 和 speed 又 因为 航迹 推算 是 自动 驾驶 很 重要 的 一部分 所以 理解 惯性导航 的 工作 原理 能 很 好 地 帮助 我们 做 基于 车身 的 航迹 推算 1 惯性导航 目前 GNSS IMU 构成 的 组合 导航系统']"
      ]
     },
     "execution_count": 7,
     "metadata": {},
     "output_type": "execute_result"
    }
   ],
   "source": [
    "ttii = '''惯性导航一般集成在GPS设备中 '''\n",
    "type(tio)\n",
    "len(ttii)\n",
    "aa = []\n",
    "aa.append(' '.join([ x for x in \" \".join(jieba.cut(str(ttii))).split(' ') if x not in stop_words]))\n",
    "aa\n",
    "ace = vectorizer.fit_transform(aa)\n",
    "clfpa.predict(ace)"
   ]
  },
  {
   "cell_type": "code",
   "execution_count": 8,
   "metadata": {},
   "outputs": [
    {
     "data": {
      "text/plain": [
       "array([6.])"
      ]
     },
     "execution_count": 8,
     "metadata": {},
     "output_type": "execute_result"
    }
   ],
   "source": []
  },
  {
   "cell_type": "code",
   "execution_count": 31,
   "metadata": {},
   "outputs": [
    {
     "data": {
      "text/plain": [
       "array([4.])"
      ]
     },
     "execution_count": 31,
     "metadata": {},
     "output_type": "execute_result"
    }
   ],
   "source": []
  }
 ],
 "metadata": {
  "kernelspec": {
   "display_name": "Python 3",
   "language": "python",
   "name": "python3"
  },
  "language_info": {
   "codemirror_mode": {
    "name": "ipython",
    "version": 3
   },
   "file_extension": ".py",
   "mimetype": "text/x-python",
   "name": "python",
   "nbconvert_exporter": "python",
   "pygments_lexer": "ipython3",
   "version": "3.6.9"
  }
 },
 "nbformat": 4,
 "nbformat_minor": 4
}
