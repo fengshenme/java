{
 "cells": [
  {
   "cell_type": "markdown",
   "metadata": {},
   "source": [
    "### 亲和性分析\n",
    "- 根据切比雪夫定理的一个应用,\n",
    "- 这个切比雪夫定理，其大意是：\n",
    "- 任意一个数据集中，位于其平均数m个标准差范围内的比例（或部分）总是至少为1－1/m2，其中m为大于1的任意正数。对于m=2，m=3和m=5有如下结果：\n",
    "- 所有数据中，至少有3/4（或75%）的数据位于平均数2个标准差范围内。\n",
    "- 所有数据中，至少有8/9（或88.9%）的数据位于平均数3个标准差范围内。\n",
    "- 所有数据中，至少有24/25（或96%)的数据位于平均数5个标准差范围内 [2"
   ]
  },
  {
   "cell_type": "code",
   "execution_count": null,
   "metadata": {},
   "outputs": [],
   "source": [
    "import numpy as np\n",
    "import pandas as pd\n",
    "from pandas import Series,DataFrame\n",
    "dataset_filename = \"affinity_dataset.txt\"\n",
    "df = pd.read_csv(dataset_filename,names=[\"a\",'b','c','d','e'],sep=' ')"
   ]
  },
  {
   "cell_type": "code",
   "execution_count": null,
   "metadata": {},
   "outputs": [],
   "source": [
    "# 求顾客买了d商品的数量\n",
    "num_d = df['d'][df['d'] == 1].sum()\n",
    "# 求顾客买了d商品,又买了e商品的人数\n",
    "num_e_d = df['d'][df['d'] == 1][df['e'] == 1].sum()\n",
    "# 求顾客买了d商品,又会买e商品这条规则的支持度,衡量的是给定规则应验的比例\n",
    "d_e_support = num_e_d / df['d'].count()\n",
    "# 求顾客买了d商品,又会买e商品这条规则置信度 ,而置信度衡量的则是规则准确率如何00\n",
    "d_e_confidence = num_e_d / num_d\n",
    "print(num_d,num_e_d,d_e_support,d_e_confidence)"
   ]
  },
  {
   "cell_type": "code",
   "execution_count": null,
   "metadata": {},
   "outputs": [],
   "source": [
    "add = list(df.columns.values)\n",
    "ay = {}\n",
    "ax = {}\n",
    "for ac in add:\n",
    "    # 求顾客买了每样商品的数量\n",
    "    aac = df[ac][df[ac] == 1]\n",
    "    for xx in reversed(add):\n",
    "        if xx is ac:\n",
    "            break\n",
    "        else:\n",
    "            # 求顾客买了一个商品,又买了另一商品的人数 \n",
    "            aacc = aac[df[xx] == 1].sum()\n",
    "            # 求会买两个商品这个规则(或可能性)的支持度\n",
    "            acd = aacc / df[xx].count()\n",
    "            # 规则置信度\n",
    "            abc = aacc / aac.sum()\n",
    "            print(\"{0}与{1}支持度{2}和置信度{3}\".format(ac,xx,acd,abc))\n",
    "            ay.update({\"{0}与{1}\".format(ac,xx):acd})\n",
    "            ax.update({\"{0}与{1}\".format(ac,xx):abc})"
   ]
  },
  {
   "cell_type": "code",
   "execution_count": null,
   "metadata": {},
   "outputs": [],
   "source": [
    "ass = DataFrame(ay.values(),index=ay.keys())\n",
    "ass[1] = ax.values()\n",
    "att = ass.rename(columns={0:'支持度',1:'置信度'})\n",
    "att.sort_values('支持度',ascending=False)"
   ]
  },
  {
   "cell_type": "code",
   "execution_count": null,
   "metadata": {},
   "outputs": [],
   "source": []
  },
  {
   "cell_type": "code",
   "execution_count": null,
   "metadata": {},
   "outputs": [],
   "source": []
  }
 ],
 "metadata": {
  "kernelspec": {
   "display_name": "Python 3",
   "language": "python",
   "name": "python3"
  },
  "language_info": {
   "codemirror_mode": {
    "name": "ipython",
    "version": 3
   },
   "file_extension": ".py",
   "mimetype": "text/x-python",
   "name": "python",
   "nbconvert_exporter": "python",
   "pygments_lexer": "ipython3",
   "version": "3.6.9"
  }
 },
 "nbformat": 4,
 "nbformat_minor": 4
}
