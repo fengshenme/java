{
 "cells": [
  {
   "cell_type": "code",
   "execution_count": null,
   "metadata": {},
   "outputs": [],
   "source": [
    "import numpy as np\n",
    "import pandas as pd\n",
    "import matplotlib.pyplot as plt\n",
    "import matplotlib as mpl\n",
    "from pandas import Series,DataFrame\n",
    "# 获取远程数据集\n",
    "import pandas_datareader  as web\n",
    "from numpy.random import randn\n",
    "# 通过%gui魔术命令打开GUI事件循环集成\n",
    "%gui\n",
    "\n",
    "# 默认情况下，matplotlib不支持中文显示，我们需要进行一下设置。\n",
    "# 设置字体为黑体，以支持中文显示。\n",
    "mpl.rcParams[\"font.family\"] = \"SimHei\"\n",
    "# 设置在中文字体时，能够正常的显示负号（-）。\n",
    "mpl.rcParams[\"axes.unicode_minus\"] = False"
   ]
  },
  {
   "cell_type": "code",
   "execution_count": null,
   "metadata": {},
   "outputs": [],
   "source": [
    "# 加载数据集\n",
    "from sklearn.datasets import load_iris\n",
    "dataset = load_iris()\n",
    "df = DataFrame(dataset.data)\n",
    "df[4] = DataFrame(dataset.target)"
   ]
  },
  {
   "cell_type": "code",
   "execution_count": null,
   "metadata": {},
   "outputs": [],
   "source": [
    "df[0].groupby(df[4]).describe()"
   ]
  },
  {
   "cell_type": "code",
   "execution_count": null,
   "metadata": {},
   "outputs": [],
   "source": [
    "df[1].groupby(df[4]).describe()"
   ]
  },
  {
   "cell_type": "code",
   "execution_count": null,
   "metadata": {},
   "outputs": [],
   "source": [
    "df[2].groupby(df[4]).describe()"
   ]
  },
  {
   "cell_type": "code",
   "execution_count": null,
   "metadata": {},
   "outputs": [],
   "source": [
    "df[3].groupby(df[4]).describe()"
   ]
  },
  {
   "cell_type": "markdown",
   "metadata": {},
   "source": [
    "- OneR算法的思路很简单,它根据已有数据中,具有相同特征值的个体最有可能属于哪个类别进行分类\n",
    "- OneR是One Rule(一条规则)的简写,表示我们只选取四个特征中分类效果最好的一个用作分类依据\n",
    "- 选择标准差最小的特征用作分类依据"
   ]
  },
  {
   "cell_type": "code",
   "execution_count": null,
   "metadata": {},
   "outputs": [],
   "source": [
    "xy = []\n",
    "for x in df[3].values :\n",
    "    if 0.6 > x > 0:\n",
    "        xt = 0\n",
    "    elif  1.8 > x >= 0.7:\n",
    "        xt = 1\n",
    "    else :\n",
    "        xt = 2\n",
    "    xy.append(xt)\n",
    "\n",
    "accuracy = np.mean(df[4].values == xy) * 100\n",
    "print (\"测试精度为 {:.1f}%\".format(accuracy))"
   ]
  },
  {
   "cell_type": "code",
   "execution_count": null,
   "metadata": {},
   "outputs": [],
   "source": [
    "xxty = df[3].map(lambda x : 0 if 0.6 > x > 0  else (1 if 1.8 > x >= 0.7 else 2)) \n",
    "accuracy = np.mean(df[4].values == xxty) * 100\n",
    "print (\"测试精度为 {:.1f}%\".format(accuracy))"
   ]
  },
  {
   "cell_type": "code",
   "execution_count": null,
   "metadata": {},
   "outputs": [],
   "source": [
    "data[3].map(lambda x:3 if x >=1  else (2 if 0.5<=x<1 else (1 if 0<=x<0.5 else 0)))"
   ]
  },
  {
   "cell_type": "code",
   "execution_count": null,
   "metadata": {},
   "outputs": [],
   "source": []
  },
  {
   "cell_type": "code",
   "execution_count": null,
   "metadata": {},
   "outputs": [],
   "source": []
  },
  {
   "cell_type": "code",
   "execution_count": null,
   "metadata": {},
   "outputs": [],
   "source": []
  },
  {
   "cell_type": "code",
   "execution_count": null,
   "metadata": {},
   "outputs": [],
   "source": []
  },
  {
   "cell_type": "code",
   "execution_count": null,
   "metadata": {},
   "outputs": [],
   "source": []
  }
 ],
 "metadata": {
  "kernelspec": {
   "display_name": "Python 3",
   "language": "python",
   "name": "python3"
  },
  "language_info": {
   "codemirror_mode": {
    "name": "ipython",
    "version": 3
   },
   "file_extension": ".py",
   "mimetype": "text/x-python",
   "name": "python",
   "nbconvert_exporter": "python",
   "pygments_lexer": "ipython3",
   "version": "3.6.9"
  }
 },
 "nbformat": 4,
 "nbformat_minor": 4
}
